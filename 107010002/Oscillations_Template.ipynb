{
 "cells": [
  {
   "cell_type": "markdown",
   "id": "e4580642-f517-4cd8-8838-24a113534883",
   "metadata": {},
   "source": [
    "# Oscillations"
   ]
  },
  {
   "cell_type": "markdown",
   "id": "55e47a10-71c2-4fc2-a653-d65bee2a3da0",
   "metadata": {},
   "source": [
    "## Simple Harmonic Oscillations"
   ]
  },
  {
   "cell_type": "markdown",
   "id": "174a4593-23eb-4de7-a9d1-96fc0aea5add",
   "metadata": {},
   "source": [
    "## Task: One dimension\n",
    "\n",
    "* Position as a function of time.\n",
    "* Kinetic energy, potential energy, and total energy."
   ]
  },
  {
   "cell_type": "code",
   "execution_count": null,
   "id": "413bbad5-50d7-4660-8f6d-3f1025406111",
   "metadata": {},
   "outputs": [],
   "source": []
  },
  {
   "cell_type": "markdown",
   "id": "45027eaa-7fbf-4814-b3f9-6124ef96b07d",
   "metadata": {},
   "source": [
    "## Task: Two dimensions\n",
    "\n",
    "* The path of the motion.\n",
    "* Lissajour curve.\n",
    "* Phase diagrams."
   ]
  },
  {
   "cell_type": "code",
   "execution_count": null,
   "id": "4c46a6d5-5ae0-4594-9b5e-d064737274da",
   "metadata": {},
   "outputs": [],
   "source": []
  },
  {
   "cell_type": "markdown",
   "id": "74b601b5-0f7a-4421-8394-823767e0b70b",
   "metadata": {},
   "source": [
    "## Damped Oscillations"
   ]
  },
  {
   "cell_type": "markdown",
   "id": "ad5b35c9-e41a-4716-b0ee-922ce3358779",
   "metadata": {},
   "source": [
    "## Task:\n",
    "\n",
    "* The path of under/critical/over damping oscillations.\n",
    "* The plot of the decrement.\n",
    "* Totoal energy and rate of energy loss for the damped oscillators.\n",
    "* The phase paths."
   ]
  },
  {
   "cell_type": "code",
   "execution_count": null,
   "id": "804638d3-6cfc-4f81-ae7c-1de1f05146c2",
   "metadata": {},
   "outputs": [],
   "source": []
  }
 ],
 "metadata": {
  "kernelspec": {
   "display_name": "Python 3 (ipykernel)",
   "language": "python",
   "name": "python3"
  },
  "language_info": {
   "codemirror_mode": {
    "name": "ipython",
    "version": 3
   },
   "file_extension": ".py",
   "mimetype": "text/x-python",
   "name": "python",
   "nbconvert_exporter": "python",
   "pygments_lexer": "ipython3",
   "version": "3.8.5"
  }
 },
 "nbformat": 4,
 "nbformat_minor": 5
}
