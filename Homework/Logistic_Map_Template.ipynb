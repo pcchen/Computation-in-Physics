{
 "cells": [
  {
   "cell_type": "markdown",
   "id": "8690575c",
   "metadata": {},
   "source": [
    "# Logistic Map\n",
    "\n",
    "## References\n",
    "* https://en.wikipedia.org/wiki/Logistic_map"
   ]
  },
  {
   "cell_type": "markdown",
   "id": "9446e118",
   "metadata": {},
   "source": [
    "## Introduction\n",
    "\n",
    "Consider the logic eqatuion:\n",
    "$$\n",
    "  f(\\alpha,x)=\\alpha x(1-x).\n",
    "$$\n",
    "\n",
    "The iterative equation becomes\n",
    "$$\n",
    "  x_{n+1} = f(\\alpha, x_n) = \\alpha x_n (1-x_n).\n",
    "$$\n",
    "\n",
    "We will assume $x$ is restricted to the domain $(0,1)$."
   ]
  },
  {
   "cell_type": "code",
   "execution_count": 1,
   "id": "9fe7e534-5705-4d86-a165-9f8ef1cf4e09",
   "metadata": {},
   "outputs": [],
   "source": [
    "import numpy as np\n",
    "import matplotlib.pyplot as plt"
   ]
  },
  {
   "cell_type": "markdown",
   "id": "72ef0b0f",
   "metadata": {},
   "source": [
    "### Tasks: Plot the function and find the attractor\n",
    "* Set $\\alpha=0.8$ and choose some initial point $x_0$, iterate $f$ and convince yourself that they all are attracted to zero. It might be helpful to plot $x_n$ v.s. $n$.\n",
    "* Plot $f$ and the diagonal $y=x$ on the same plot. Are there any fixed-points other than $x=0$?\n",
    "* Repeat for $\\alpha=1.2$, $\\alpha=2.8$, $\\alpha=3.2$. What happens?"
   ]
  },
  {
   "cell_type": "code",
   "execution_count": null,
   "id": "1ab27bd1",
   "metadata": {},
   "outputs": [],
   "source": []
  },
  {
   "cell_type": "markdown",
   "id": "3f174d48",
   "metadata": {},
   "source": [
    "### Tasks: Trajectory of the attractor\n",
    "* On the same graph, plot $f$, the diagonal $y=x$, and the trajectory $\\{x_0, x_0\\}$, $\\{x_0, f(x_0)\\}$, $\\{f(x_0), f(x_0)\\}$, $\\{f(x_0), f(fx_0)\\}$, $\\dots$ for $\\alpha=2.8, 3.2, 3.52, 3.54, 4.00$. Describe their differences."
   ]
  },
  {
   "cell_type": "code",
   "execution_count": null,
   "id": "fbb21ce4",
   "metadata": {},
   "outputs": [],
   "source": []
  },
  {
   "cell_type": "markdown",
   "id": "b67bc3dd",
   "metadata": {},
   "source": [
    "### Tasks: Bifucation diagram\n",
    "* Plot the attractor as a function of $\\alpha$ for $0<\\alpha<4$."
   ]
  },
  {
   "cell_type": "code",
   "execution_count": null,
   "id": "3b194a1e",
   "metadata": {},
   "outputs": [],
   "source": []
  },
  {
   "cell_type": "markdown",
   "id": "5e2e7eb4",
   "metadata": {},
   "source": [
    "### Tasks: *three cycle*\n",
    "\n",
    "Consider the case when $\\alpha=3.82831$ and $x_0=0.51$. Show that a three cycle occurs with the approximate $x$ values 0.16, 0.52, and 0.96 for the first 80 cycles before the behavior apparently turns chaotic. Find for what iteration that next apparently periodic cycle occurs and for how many cycles it stays periodic?"
   ]
  },
  {
   "cell_type": "code",
   "execution_count": null,
   "id": "95b3fe18",
   "metadata": {},
   "outputs": [],
   "source": []
  },
  {
   "cell_type": "markdown",
   "id": "395db2d0",
   "metadata": {},
   "source": [
    "### Tasks: Feigenbaum number\n",
    "* Find $\\alpha_n$ where n-th bifurcation occurs. \n",
    "* Calculate\n",
    "$$\n",
    "  \\delta_n \\equiv \\frac{\\alpha_n-\\alpha_{n-1}}{\\alpha_{n+1}-\\alpha_n}\n",
    "$$\n",
    "and plot $\\delta_n$ v.s. $n$. \n",
    "* Convince yourself that $\\delta_n$ converge to the Feigenbaum number $\\delta=4.6692016091029909\\dots$."
   ]
  },
  {
   "cell_type": "markdown",
   "id": "0b6ea158-5214-4f76-8d59-e152ad804595",
   "metadata": {},
   "source": [
    "## Stable, superstable, Lyapunov exponents\n",
    "\n",
    "For a fixed $\\alpha$, define $f^2(x)=f(f(x))$, $f^3=f(f(f(x)))$ etc.\n",
    "\n",
    "If $x^*$ is a fixed-point (so $f(x^*)=x^*$) then the fixed-point is\n",
    "* unstable if $ \\left| f^\\prime(x^*) \\right| >1 $.\n",
    "* stable if $ 0<\\left| f^\\prime(x^*) \\right| <1 $.\n",
    "* superstable if $ \\left| f^\\prime(x^*) \\right| =0 $.\n",
    "\n",
    "If $x^*$ is a period-$2^n$ fixed-point (so $f^{2^n}(x^*)=x^*$). It is $2^n$-cycle superstable if $\\frac{df^N(x^*)}{dx}=0$. \n",
    "\n",
    "Since $f^\\prime(1/2)=0$, by the chain rule $ \\frac{df^N}{dx} = f^\\prime(x_0) f^\\prime(x_1) f^\\prime(x_2) \\dots f^\\prime(x_{N-1})$.\n",
    "one has $\\frac{df^N(1/2)}{dx}=0$.\n",
    "\n",
    "So if $x=1/2$ is a period-$2^n$ fixed-point for some $\\alpha$, then $x=1/2$ is $2^n$-cycle superstable for this $\\alpha$."
   ]
  },
  {
   "cell_type": "markdown",
   "id": "39670383-99b4-4f08-be50-831fc8e1eb7c",
   "metadata": {},
   "source": [
    "### Use scipy.optimize.brentz to find the root"
   ]
  },
  {
   "cell_type": "code",
   "execution_count": 2,
   "id": "aa2ce344-7df1-49d6-9dbd-49163e16f030",
   "metadata": {},
   "outputs": [
    {
     "name": "stdout",
     "output_type": "stream",
     "text": [
      "-1.0\n",
      "1.0\n"
     ]
    },
    {
     "data": {
      "image/png": "[encoded data removed]",
      "text/plain": [
       "<Figure size 432x288 with 1 Axes>"
      ]
     },
     "metadata": {
      "needs_background": "light"
     },
     "output_type": "display_data"
    }
   ],
   "source": [
    "from scipy import optimize\n",
    "\n",
    "def g(x):\n",
    "    return (x**2 - 1)\n",
    "root = optimize.brentq(g, -2, 0)\n",
    "print(root)\n",
    "root = optimize.brentq(g, 0, 2)\n",
    "print(root)\n",
    "\n",
    "fig, ax = plt.subplots()\n",
    "x = np.linspace(-4, 4)\n",
    "ax.plot(x, g(x))\n",
    "ax.grid()"
   ]
  },
  {
   "cell_type": "markdown",
   "id": "bbf0142e",
   "metadata": {},
   "source": [
    "### Tasks: Superstable\n",
    "* Find the value of $\\alpha_n$ at which the $2^n$-cycle is superstable for the first few values of $n$ as follows:\n",
    "Define \n",
    "$$\n",
    "  G(\\alpha) = f^{2^n}(\\alpha, 1/2).\n",
    "$$\n",
    "and find the root as a function of $\\alpha$. You can use scipy.optimize.brentq to find the roots of a function\n",
    "* Calculate\n",
    "$$\n",
    "  \\delta_n \\equiv \\frac{\\alpha_n-\\alpha_{n-1}}{\\alpha_{n+1}-\\alpha_n}\n",
    "$$\n",
    "and plot $\\delta_n$ v.s. $n$. \n",
    "* Convince yourself that $\\delta_n$ also converge to the Feigenbaum number $\\delta=4.6692016091029909\\dots$."
   ]
  },
  {
   "cell_type": "code",
   "execution_count": null,
   "id": "b1b4ac00",
   "metadata": {},
   "outputs": [],
   "source": []
  },
  {
   "cell_type": "markdown",
   "id": "38e14738-4b98-45db-a0c0-172a837c8e7b",
   "metadata": {},
   "source": [
    "## Tasks: Lyapunov exponents\n",
    "\n",
    "The Lyapunov exponents $\\lambda$ can be obtained as follows:\n",
    "$$\n",
    "  \\lambda = \\lim_{n\\rightarrow \\infty} \\frac{1}{n} \\sum_{i=0}^{n-1} \\left| \\frac{df(x_i)}{dx} \\right|\n",
    "  \\approx \\frac{1}{n_{\\max}} \\sum_{i=0}^{n_{max}-1} \\left| \\frac{df(x_i)}{dx} \\right|,\n",
    "$$\n",
    "where $n_{max}$ is some large positive integer.\n",
    "\n",
    "Plot the Lyapunov exponent as a function of $\\alpha$ for the logictic map. Note that\n",
    "* When $\\lambda=0$ the bifurcation occurs.\n",
    "* When $\\lambda=-\\infty$ it is superstable.\n",
    "* When $\\lambda>0$ it is chaotic.\n",
    "\n",
    "Does your plot of the Lyapunov exponent agrees with other calculations above?"
   ]
  },
  {
   "cell_type": "code",
   "execution_count": null,
   "id": "7c715f37-ab77-419d-beee-130013abacde",
   "metadata": {},
   "outputs": [],
   "source": []
  },
  {
   "cell_type": "markdown",
   "id": "51c7954f",
   "metadata": {},
   "source": [
    "### Tasks: Another map\n",
    "* Plot the attractor for the map\n",
    "$$\n",
    "  f(x) = B\\sin(\\pi x)\n",
    "$$\n",
    "for $0<B<1$.\n",
    "* Do the bifurcation diagram appear similar?\n",
    "* For this map find the superstable $\\alpha_n$ and the ratio $\\delta_n$. Does $\\delta_n$ also converge to the Feigenbaum number $\\delta=4.6692016091029909\\dots$?"
   ]
  },
  {
   "cell_type": "code",
   "execution_count": null,
   "id": "b114924a",
   "metadata": {},
   "outputs": [],
   "source": []
  }
 ],
 "metadata": {
  "kernelspec": {
   "display_name": "Python 3 (ipykernel)",
   "language": "python",
   "name": "python3"
  },
  "language_info": {
   "codemirror_mode": {
    "name": "ipython",
    "version": 3
   },
   "file_extension": ".py",
   "mimetype": "text/x-python",
   "name": "python",
   "nbconvert_exporter": "python",
   "pygments_lexer": "ipython3",
   "version": "3.8.5"
  }
 },
 "nbformat": 4,
 "nbformat_minor": 5
}
