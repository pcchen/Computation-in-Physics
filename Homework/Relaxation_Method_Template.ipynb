{
 "cells": [
  {
   "cell_type": "markdown",
   "metadata": {},
   "source": [
    "# Relaxation Methods for Partial Diﬀerential Equations\n",
    "\n",
    "* Author: Pochung Chen\n",
    "* Email: pcchen@phys.nthu.edu.tw\n",
    "\n",
    "Last updated on 11/8/2021"
   ]
  },
  {
   "cell_type": "markdown",
   "metadata": {},
   "source": [
    "## Physics background\n",
    "\n",
    "For a region of space containing a charge density $\\rho$, the electrostatic potential $V$ satisfies **Poission's equation**:\n",
    "\n",
    "$$\n",
    "  \\nabla^2 V \n",
    "  = \\frac{\\partial^2 V}{\\partial^2 x} + \\frac{\\partial^2 V}{\\partial^2 y} + \\frac{\\partial^2 V}{\\partial^2 z}\n",
    "  = -\\frac{1}{\\epsilon_0} \\rho.\n",
    "$$\n",
    "\n",
    "When $\\rho=0$ Poission's equation reduces to **Laplace's equation**:\n",
    "\n",
    "$$\n",
    "  \\nabla^2 V\n",
    "  = \\frac{\\partial^2 V}{\\partial^2 x} + \\frac{\\partial^2 V}{\\partial^2 y} + \\frac{\\partial^2 V}{\\partial^2 z}\n",
    "  = 0.\n",
    "$$\n",
    "\n",
    "From the potential we can derive the electric field,\n",
    "$$\n",
    "  \\vec{E}\n",
    "  = -\\vec{\\nabla}V\n",
    "  = \\left(-\\frac{\\partial V}{\\partial x}, -\\frac{\\partial V}{\\partial y}, -\\frac{\\partial V}{\\partial z}\\right).\n",
    "$$\n"
   ]
  },
  {
   "cell_type": "markdown",
   "metadata": {},
   "source": [
    "## Discretization and the relaxation method\n",
    "\n",
    "We consider a mesh of grid points that covers the domain of interest. For simplicity we assume in each direction the spacing between grid points is $h$.\n",
    "\n",
    "$$\n",
    "  (x_i, y_j, z_k) = (x_0, y_0, z_0) + h (i, j, k).\n",
    "$$\n",
    "\n",
    "We need to find the discretized version of the differential operator $\\nabla^2$.\n",
    "\n",
    "We first Taylor expand $V(x,y,z)$ in $x$ to second order:\n",
    "\n",
    "$$\n",
    "  V(x\\pm h,y,z) = V(x,y,z) \\pm h \\frac{\\partial V}{\\partial x} + \\frac{1}{2}h^2 \\frac{\\partial^2 V}{\\partial x^2} + \\cdots\n",
    "$$\n",
    "\n",
    "so that\n",
    "\n",
    "$$\n",
    "  \\frac{\\partial^2 V}{\\partial x^2} \\approx \\frac{V(x+h)+V(x-h)-2V(x)}{h^2}\n",
    "$$\n",
    "and similarly for $y$ and $z$.\n",
    "\n",
    "We hence obtain the discrete approximation to the laplacian:\n",
    "\n",
    "$$\n",
    "  \\nabla^2 V \\approx\n",
    "  \\frac{V(x+h,y,z)+V(x-h,y,z)-2V(x,y,z)}{h^2} + \\frac{V(x,y+h,z)+V(x,y-h,z)-2V(x,y,z)}{h^2} + \\frac{V(x,y,z+h)+V(x,y,z-h)-2V(x,y,z)}{h^2}\n",
    "$$"
   ]
  },
  {
   "cell_type": "markdown",
   "metadata": {},
   "source": [
    "## Laplace's equation\n",
    "\n",
    "If we use a grid notation\n",
    "* $V(x, y, z)=V_{i,j,k}$\n",
    "* $V(x+h, y, z)=V_{i+1, j, k}$\n",
    "* $V(x, y+h, z)=V_{i, j+1, k}$\n",
    "* $V(x, y, z+h)=V_{i, j, k+1}$\n",
    "\n",
    "then the discretized verion of Laplace's equation becomes\n",
    "\n",
    "$$\n",
    "  h^2 \\nabla^2 V = 0 \\approx \n",
    "  \\left( V_{i+1,j,k}+V_{i-1,j,k}+V_{i,j+1,k}+V_{i,j-1,k}+V_{i,j,k+1}+V_{i,j,k-1} \\right)\n",
    "  -6V_{i,j,k}.\n",
    "$$\n",
    "\n",
    "This can be re-written as\n",
    "\n",
    "$$\n",
    "  V_{i,j,k} = \\frac{1}{6}\\left( V_{i+1,j,k}+V_{i-1,j,k}+V_{i,j+1,k}+V_{i,j-1,k}+V_{i,j,k+1}+V_{i,j,k-1} \\right).\n",
    "$$\n",
    "\n",
    "For effective 2D problems,\n",
    "\n",
    "$$\n",
    "  V_{i,j} = \\frac{1}{4}\\left( V_{i+1,j}+V_{i-1,j}+V_{i,j+1}+V_{i,j-1} \\right).\n",
    "$$\n",
    "\n",
    "For effective 1D problems,\n",
    "\n",
    "$$\n",
    "  V_{i} = \\frac{1}{2}\\left( V_{i+1}+V_{i-1} \\right).\n",
    "$$\n",
    "\n"
   ]
  },
  {
   "cell_type": "markdown",
   "metadata": {},
   "source": [
    "## Poission's equation\n",
    "\n",
    "If charges are present. First we replace the charge density $\\rho(x,y,z)$ by a discrete distribution $\\rho_{i,j,k}=\\rho(x_i,y_j,z_k)$.\n",
    "\n",
    "The discretized version of Poisson's equation becomes\n",
    "\n",
    "$$\n",
    "  h^2 \\nabla^2 V = -h^2 \\frac{1}{\\epsilon_0} \\rho_{i,j,k} \\approx \n",
    "  -6V_{i,j,k}.\n",
    "$$\n",
    "\n",
    "This can be re-written as\n",
    "\n",
    "$$\n",
    "  V_{i,j,k} = \\frac{1}{6}\\left( V_{i+1,j,k}+V_{i-1,j,k}+V_{i,j+1,k}+V_{i,j-1,k}+V_{i,j,k+1}+V_{i,j,k-1} + \\frac{1}{\\epsilon_0}h^3\\rho_{i,j,k} \\right).\n",
    "$$\n",
    "\n",
    "For effective 2D problems,\n",
    "\n",
    "$$\n",
    "  V_{i,j} = \\frac{1}{4}\\left( V_{i+1,j}+V_{i-1,j}+V_{i,j+1}+V_{i,j-1} + \\frac{1}{\\epsilon_0}h^2\\rho_{i,j,k} \\right).\n",
    "$$\n",
    "\n",
    "For effective 1D problems,\n",
    "\n",
    "$$\n",
    "  V_{i} = \\frac{1}{2}\\left( V_{i+1}+V_{i-1} + \\frac{1}{\\epsilon_0}h\\rho_{i,j,k} \\right).\n",
    "$$\n"
   ]
  },
  {
   "cell_type": "markdown",
   "metadata": {},
   "source": [
    "### Exact solution in 1D\n",
    "In 1D, the Laplace's equation reads\n",
    "\n",
    "$$\n",
    "  \\frac{d^2 V(x)}{dx^2} = 0.\n",
    "$$\n",
    "\n",
    "The solution has the form $V(x)=ax+b$ where $a$ and $b$ are constants."
   ]
  },
  {
   "cell_type": "markdown",
   "metadata": {},
   "source": [
    "## Tasks: Jacobi method and Gauss-Seidel method\n",
    "\n",
    "* Write a program to compute $V$ in a rectangular domain with Dirichlet boundary conditions. \n",
    "* Allow the potentials on all four sides to be specified arbitrarily. \n",
    "* The number of grid point can be changed."
   ]
  },
  {
   "cell_type": "markdown",
   "metadata": {},
   "source": [
    "#### Jacobi and Gauss-Seidel methods\n",
    "\n",
    "* Study the relative speed of the Jacobi and Gauss-Seidel methods."
   ]
  },
  {
   "cell_type": "code",
   "execution_count": null,
   "metadata": {
    "collapsed": false,
    "jupyter": {
     "outputs_hidden": false
    }
   },
   "outputs": [],
   "source": []
  },
  {
   "cell_type": "markdown",
   "metadata": {},
   "source": [
    "### Initial conditions\n",
    "\n",
    "* Study if the initial guess have a significant impact on overall speed."
   ]
  },
  {
   "cell_type": "code",
   "execution_count": null,
   "metadata": {
    "collapsed": false,
    "jupyter": {
     "outputs_hidden": false
    }
   },
   "outputs": [],
   "source": []
  },
  {
   "cell_type": "markdown",
   "metadata": {},
   "source": [
    "## Tasks: Contour plots (equipotentials) and electric field \n",
    "\n",
    "* Write a program to compute $V$ in a rectangular domain with Dirichlet boundary conditions. \n",
    "* Allow the potentials on all four sides to be specified arbitrarily. \n",
    "* The number of grid point can be changed.\n",
    "* Use Jacobi method or Gauss-Seidel method.\n",
    "* Use some good initial guess.\n",
    "* Plot the equipotentials.\n",
    "* Plot the electric fields."
   ]
  },
  {
   "cell_type": "code",
   "execution_count": 1,
   "metadata": {
    "collapsed": false,
    "jupyter": {
     "outputs_hidden": false
    }
   },
   "outputs": [],
   "source": [
    "# for contour plot\n",
    "# fig, ax = plt.subplots(figsize=(10,8))\n",
    "# cs = ax.contour(X, Y, V)\n",
    "# cs = ax.contourf(X, Y, V)\n",
    "# fig.colorbar(cs)\n",
    "\n",
    "# for electric field\n",
    "# ax.streamplot(x, y, Ex, Ey, color='b')\n",
    "# ax.quiver(x, y, Ex, Ey, color='b')\n"
   ]
  },
  {
   "cell_type": "markdown",
   "metadata": {},
   "source": [
    "## Tasks: Adding charges\n",
    "\n",
    "* Modify your code to allow point charges to be placed at arbitrary mesh points."
   ]
  },
  {
   "cell_type": "code",
   "execution_count": null,
   "metadata": {
    "collapsed": false,
    "jupyter": {
     "outputs_hidden": false
    }
   },
   "outputs": [],
   "source": []
  },
  {
   "cell_type": "markdown",
   "metadata": {},
   "source": [
    "### Single charge\n",
    "\n",
    "* Compute the potential due to a single charge.\n",
    "* Verify that the potential falls off logarithmically, i.e., if $r\\rightarrow 2r$ then the potential decreases by a factor of $\\ln 2$ (for a positive charge)."
   ]
  },
  {
   "cell_type": "code",
   "execution_count": null,
   "metadata": {
    "collapsed": false,
    "jupyter": {
     "outputs_hidden": false
    }
   },
   "outputs": [],
   "source": []
  },
  {
   "cell_type": "markdown",
   "metadata": {},
   "source": [
    "### Dipole\n",
    "\n",
    "* Compute the potential due to an electric dipole.\n",
    "* What is the expected $r$ dependence? \n",
    "* Does your results have the expacted behavior?"
   ]
  },
  {
   "cell_type": "code",
   "execution_count": null,
   "metadata": {
    "collapsed": false,
    "jupyter": {
     "outputs_hidden": false
    }
   },
   "outputs": [],
   "source": []
  },
  {
   "cell_type": "markdown",
   "metadata": {},
   "source": [
    "## Tasks: Parallesl sheets of charges\n",
    "\n",
    "* Use your program to calculate the potential for parallel lines of charges.\n",
    "* Compute the capacitance.\n"
   ]
  },
  {
   "cell_type": "markdown",
   "metadata": {},
   "source": [
    "### Method-1\n",
    "\n",
    "* Use two edges of the domain as the plates.\n",
    "* Use periodic boundary conditions in the direction along the plates."
   ]
  },
  {
   "cell_type": "code",
   "execution_count": null,
   "metadata": {
    "collapsed": false,
    "jupyter": {
     "outputs_hidden": false
    }
   },
   "outputs": [],
   "source": []
  },
  {
   "cell_type": "markdown",
   "metadata": {},
   "source": [
    "### Method-2\n",
    "\n",
    "* Introduce actual lines of equal and opposite charge **NOT** on the boundaries, and solve Poisson's equation both between and outside the plates.\n",
    "* Stretch the liens of charges across the domain and impose periodic boundary conditions in the directions along the sheets.\n",
    "* Impose *anti-periodic* boundary conditions in the direction perpendicular to the sheets (make sure you understand why), i.e., $V_{bottom}=-V_{top}."
   ]
  },
  {
   "cell_type": "code",
   "execution_count": null,
   "metadata": {
    "collapsed": false,
    "jupyter": {
     "outputs_hidden": false
    }
   },
   "outputs": [],
   "source": []
  },
  {
   "cell_type": "markdown",
   "metadata": {},
   "source": [
    "### Method-3\n",
    "\n",
    "* Now consider two finite slabs.\n",
    "* What are the appropriate boundary conditions."
   ]
  },
  {
   "cell_type": "code",
   "execution_count": null,
   "metadata": {
    "collapsed": false,
    "jupyter": {
     "outputs_hidden": false
    }
   },
   "outputs": [],
   "source": []
  },
  {
   "cell_type": "markdown",
   "metadata": {},
   "source": [
    "## Tasks: Concentric rectangles\n",
    "\n",
    "* Modify your program to solve for $V$between two recrangular boundaries held at constant potential.\n",
    "* Calculate the surface charge density on the boundary surface. $\\lambda = \\epsilon_0 \\vec{n}\\cdot \\vec{E}$.\n",
    "* Determine the totla charge on each surface. How do they compare?\n",
    "* Determine the capacitance of the system."
   ]
  },
  {
   "cell_type": "code",
   "execution_count": null,
   "metadata": {
    "collapsed": false,
    "jupyter": {
     "outputs_hidden": false
    }
   },
   "outputs": [],
   "source": []
  },
  {
   "cell_type": "markdown",
   "metadata": {},
   "source": [
    "## Tasks: Elaborations (Bonus!)\n",
    "\n",
    "If you are ambitious, try to implement\n",
    "* Overrelaxation method.\n",
    "* Multigruid mehtod."
   ]
  },
  {
   "cell_type": "code",
   "execution_count": null,
   "metadata": {
    "collapsed": false,
    "jupyter": {
     "outputs_hidden": false
    }
   },
   "outputs": [],
   "source": []
  },
  {
   "cell_type": "code",
   "execution_count": null,
   "metadata": {
    "collapsed": false,
    "jupyter": {
     "outputs_hidden": false
    }
   },
   "outputs": [],
   "source": []
  }
 ],
 "metadata": {
  "kernelspec": {
   "display_name": "Python 3 (ipykernel)",
   "language": "python",
   "name": "python3"
  },
  "language_info": {
   "codemirror_mode": {
    "name": "ipython",
    "version": 3
   },
   "file_extension": ".py",
   "mimetype": "text/x-python",
   "name": "python",
   "nbconvert_exporter": "python",
   "pygments_lexer": "ipython3",
   "version": "3.8.5"
  }
 },
 "nbformat": 4,
 "nbformat_minor": 4
}
