{
 "cells": [
  {
   "cell_type": "markdown",
   "id": "0d339fd5-83dc-4d29-9480-373a49400281",
   "metadata": {},
   "source": [
    "# Pendulum\n",
    "\n",
    "## References\n",
    "* https://en.wikipedia.org/wiki/Pendulum\n",
    "* https://en.wikipedia.org/wiki/Pendulum_(mathematics)"
   ]
  },
  {
   "cell_type": "markdown",
   "id": "13d59c57-b47e-4597-a17b-535a4f1ef1bf",
   "metadata": {},
   "source": [
    "## Introduction\n",
    "**Fix me if you find any typo!**\n",
    "\n",
    "The equation of motions of a pendulum reads\n",
    "\n",
    "$$\n",
    "  \\frac{d^2 \\theta}{dt^2} = \\ddot{\\theta} = -\\omega^2_0 \\sin(\\theta),\n",
    "$$\n",
    "where $\\omega^2=g/L$. If this work you will take $g=9.8 \\text{m}/\\text{s}^2$ and $L=1$ m.\n",
    "\n",
    "When the amplitude of the motion is small, one has $\\sin\\theta \\approx \\theta$ \n",
    "and the period is given by $\\tau \\approx \\frac{2\\pi}{\\omega_0} = \\tau_0$.\n",
    "\n",
    "$$\n",
    "  \\tau \n",
    "  = \\frac{2}{\\omega_0} \\int_0^{\\theta_0} \n",
    "  \\frac{d\\theta}{\\sqrt{\\sin^2(\\theta_0/2) - \\sin^2(\\theta/2) } }\n",
    "  = \\frac{4}{\\omega_0} \\int_0^1 \n",
    "  \\frac{dt}{\\sqrt{(1-t^2)(1-k^2 t^2)} }  \n",
    "  = \\frac{2\\tau_0}{\\pi} K(k),\n",
    "$$\n",
    "\n",
    "where \n",
    "$$\n",
    "  K(k) \n",
    "  = \\int_0^{\\frac{\\pi}{2}} \\frac{d\\theta}{\\sqrt{1-k^2 \\sin^2(\\theta)} }\n",
    "  = \\int_0^1 \\frac{dt}{\\sqrt{(1-t^2)(1-k^2 t^2)} } \n",
    "  \\approx \\frac{\\pi}{2} \\left[ \n",
    "  1 + \\left( \\frac{1}{2} \\right)^2 k^2 + + \\left( \\frac{1\\cdot 3}{2\\cdot 4} \\right)^2 k^4 + \\cdots\n",
    "  + \\left( \\frac{(2n-1)!!}{(2n)!!} \\right)^2 k^2 + \\cdots\n",
    "  \\right]\n",
    "$$ \n",
    "is the **complete elliptic integral of the first kind**"
   ]
  },
  {
   "cell_type": "markdown",
   "id": "b42abe85-f094-4fe3-9cb0-e637a765e0f2",
   "metadata": {},
   "source": [
    "## Task: Solving the pendulum\n",
    "\n",
    "In this task, you should implement the following three methods to solve for the dynamics of a pendulum.\n",
    "\n",
    "### Euler method\n",
    "$$\n",
    "  \\theta(t+\\delta) = \\theta(t) + \\dot{\\theta}(t) \\delta\n",
    "$$\n",
    "$$\n",
    "  \\dot{\\theta}(t+\\delta) = \\dot{\\theta}(t) + \\ddot{\\theta}(t) \\delta\n",
    "$$\n",
    "\n",
    "### Staggered algorithm\n",
    "$$\n",
    "  \\dot{x}(t+dt) = \\dot{x}(t) + \\ddot{x}(t) dt\n",
    "$$\n",
    "$$\n",
    "  x(t+dt) = x(t) + \\dot{x}(t+dt) dt\n",
    "$$\n",
    "\n",
    "### Velocity Verlet algorithm\n",
    "$$\n",
    "  \\dot{x}(t+dt/2) = \\dot{x}(t) + \\ddot{x}(t) dt/2\n",
    "$$\n",
    "$$\n",
    "  x(t+dt) = x(t) + \\dot{x}(t+dt/2) dt\n",
    "$$\n",
    "$$\n",
    "  \\dot{x}(t+dt) = \\dot{x}(t+dt/2) + \\ddot{x}(t+dt) dt/2\n",
    "$$\n",
    "\n",
    "Given the initial condition $\\theta(0)$, $\\dot{\\theta}(0)$, time step $\\delta$, and total simulation time $T$. Use one of the method to obtain $\\theta(t_i)$ and $\\dot{\\theta}(t_i)$ where $t_i=i\\delta$ until $t_i\\ge T$."
   ]
  },
  {
   "cell_type": "code",
   "execution_count": null,
   "id": "7872f434-5a0c-494e-b1ec-b35df6252ada",
   "metadata": {},
   "outputs": [],
   "source": []
  },
  {
   "cell_type": "markdown",
   "id": "90d8d24d-0800-4e3c-98ba-1c0ed4421235",
   "metadata": {},
   "source": [
    "## Task: Fidelity and Accuracy\n",
    "For this task, we assume $\\dot{\\theta}(0)=0$. You should show the result for $\\theta(0)=2\\pi/3$ and some other $\\theta(0)$ of your choice.\n",
    "\n",
    "* For each of the method, plot the pendulum trajectory $\\theta(t)$ for time step $\\delta=0.1$, $0.01$, and $0.001$. Zoom in on the curve at $t=1$ and visually compare the values from the three time stpes. \n",
    "* Does it appear that the trajectory if converging as $\\delta\\rightarrow 0$.\n",
    "* What order cumulative accuracy do you find: is each curve better by a factor of 10, 10, 1000, ...?\n",
    "* Use `numpy.logspace` to create an array of $\\delta$ then plot $\\theta(t=1)$ as a function of $\\delta$ or $1/\\delta$. Describe what you observe."
   ]
  },
  {
   "cell_type": "code",
   "execution_count": null,
   "id": "e8d6c1e3-cfce-4b21-9315-5c7a2779b660",
   "metadata": {},
   "outputs": [],
   "source": []
  },
  {
   "cell_type": "markdown",
   "id": "f6e99a42-531e-436e-9e1a-2fc701c7b312",
   "metadata": {},
   "source": [
    "## Task: Stability\n",
    "\n",
    "For you task, we assum $\\theta(0)=0.001$, $\\dot{\\theta}(0)=0$, and $T=10$. \n",
    "\n",
    "* For each of the method, plot the pendulum trajectory $\\theta(t)$ for time stpes $\\delta=0.1, 0.2, ...., 0.8$. \n",
    "* At about what $\\delta_c$ does it go unstable?\n",
    "* How does $\\delta_c$ compare with the characteristic time period of the pendulum?\n",
    "* At $\\delta_c/2$, how accurate is the amplitude of the oscillation? (You will need to observe several periods in order to estimate the maximum amplitude ofthe solution)"
   ]
  },
  {
   "cell_type": "code",
   "execution_count": null,
   "id": "1533f79e-a0cd-4839-895b-9baaada893c3",
   "metadata": {},
   "outputs": [],
   "source": []
  },
  {
   "cell_type": "markdown",
   "id": "14f5b8e4-f310-48bd-a4bc-66f64155f963",
   "metadata": {},
   "source": [
    "## Task: Period\n",
    "\n",
    "* For each of the method, determine the period of the oscillation and compare to the exact result for time steps $\\delta=0.1, 0.01, 0.001$."
   ]
  },
  {
   "cell_type": "code",
   "execution_count": null,
   "id": "abb4c627-7ab2-4c89-aade-f9245604289f",
   "metadata": {},
   "outputs": [],
   "source": []
  }
 ],
 "metadata": {
  "kernelspec": {
   "display_name": "Python 3 (ipykernel)",
   "language": "python",
   "name": "python3"
  },
  "language_info": {
   "codemirror_mode": {
    "name": "ipython",
    "version": 3
   },
   "file_extension": ".py",
   "mimetype": "text/x-python",
   "name": "python",
   "nbconvert_exporter": "python",
   "pygments_lexer": "ipython3",
   "version": "3.8.5"
  }
 },
 "nbformat": 4,
 "nbformat_minor": 5
}
