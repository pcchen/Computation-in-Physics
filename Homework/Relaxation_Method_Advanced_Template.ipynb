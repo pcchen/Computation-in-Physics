{
 "cells": [
  {
   "cell_type": "markdown",
   "metadata": {},
   "source": [
    "# Relaxation Methods for Partial Diﬀerential Equations\n",
    "## Advanced topics\n",
    "\n",
    "* Author: Pochung Chen\n",
    "* Email: pcchen@phys.nthu.edu.tw\n",
    "\n",
    "Last updated on 12/6/2021"
   ]
  },
  {
   "cell_type": "markdown",
   "metadata": {},
   "source": [
    "## Tasks: Overrelaxation\n",
    "\n",
    "We can use the following update\n",
    "$$\n",
    "  V^{n+1}_{i,j} = \\omega V^n_{AVG} + (1-\\omega)V^n_{i,j},\n",
    "$$\n",
    "where $V_{AVG}$ is a shorthand for the average nearest-neighbor potential and the parameter $0<\\omega<2$ is known as the **overrelazation parameter**.\n",
    "* $\\omega<1 \\rightarrow$ **underrelaxation**.\n",
    "* $\\omega>1 \\rightarrow$ **overrelaxation**.\n",
    "* $\\omega=1 \\rightarrow$ standard update.\n",
    "\n",
    "Modify your code for a single rectanglualr bounary and identify the best $\\omega$ for this problem."
   ]
  },
  {
   "cell_type": "code",
   "execution_count": null,
   "metadata": {
    "collapsed": false,
    "jupyter": {
     "outputs_hidden": false
    }
   },
   "outputs": [],
   "source": []
  },
  {
   "cell_type": "markdown",
   "metadata": {
    "jupyter": {
     "outputs_hidden": false
    }
   },
   "source": [
    "## Tasks: Multigrid methods\n",
    "\n",
    "\n",
    "Consider a squre boundary. \n",
    "* Starting with $2^0+1$ points (including the boundary point) in each direction. \n",
    "* Iterate a copule of times then perform the **prologation** from the coarse grid $(2^0+1)$ to the find grid $(2^1+1)$.\n",
    "* Repeat the same procedue until you reach the finest grid with $2^N+1$ points, where $N$ is assinged by you.\n",
    "\n",
    "Compre to a standard simulation with $2^N+1$, which way converges faster?"
   ]
  },
  {
   "cell_type": "code",
   "execution_count": null,
   "metadata": {},
   "outputs": [],
   "source": []
  },
  {
   "cell_type": "markdown",
   "metadata": {
    "jupyter": {
     "outputs_hidden": false
    }
   },
   "source": [
    "## Tasks: Arbitrary boundary shapes\n",
    "\n",
    "Consider a circle with radius $r=1$. Set the potential on the circle to be $V_0$ and put a point charge at the center. Using the generalization to the arbitrary boundary shapes to find the potential inside the circle. "
   ]
  },
  {
   "cell_type": "code",
   "execution_count": null,
   "metadata": {},
   "outputs": [],
   "source": []
  }
 ],
 "metadata": {
  "kernelspec": {
   "display_name": "Python 3 (ipykernel)",
   "language": "python",
   "name": "python3"
  },
  "language_info": {
   "codemirror_mode": {
    "name": "ipython",
    "version": 3
   },
   "file_extension": ".py",
   "mimetype": "text/x-python",
   "name": "python",
   "nbconvert_exporter": "python",
   "pygments_lexer": "ipython3",
   "version": "3.8.5"
  }
 },
 "nbformat": 4,
 "nbformat_minor": 4
}
