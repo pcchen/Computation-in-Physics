{
 "cells": [
  {
   "cell_type": "code",
   "execution_count": 1,
   "id": "286a4643",
   "metadata": {},
   "outputs": [],
   "source": [
    "import numpy as np\n",
    "from scipy.linalg import eig, eigh\n",
    "from scipy.sparse.linalg import eigs, eigsh"
   ]
  },
  {
   "cell_type": "code",
   "execution_count": null,
   "id": "dc52cb2e",
   "metadata": {},
   "outputs": [],
   "source": [
    "np.random.seed(0)\n",
    "D = 50\n",
    "n = 3\n",
    "dim = D**n\n",
    "X = np.random.random((dim,dim)) - 0.5\n",
    "X = np.dot(X, X.T) #create a symmetric matrix"
   ]
  },
  {
   "cell_type": "code",
   "execution_count": 10,
   "id": "265dcd7a",
   "metadata": {},
   "outputs": [],
   "source": [
    "evals_all, evecs_all = eigh(X)\n",
    "print(evals_all[-3:])"
   ]
  },
  {
   "cell_type": "code",
   "execution_count": 8,
   "id": "581b8a32",
   "metadata": {},
   "outputs": [
    {
     "name": "stdout",
     "output_type": "stream",
     "text": [
      "[12.39842126 13.58834325 17.21901167]\n",
      "[12.39842126 13.58834325 17.21901167]\n",
      "[[ 1.00000000e+00 -2.91433544e-16 -7.84095011e-16]\n",
      " [-2.90045765e-15 -1.00000000e+00  8.82974249e-16]\n",
      " [ 5.82867088e-16  8.10115863e-16  1.00000000e+00]]\n"
     ]
    }
   ],
   "source": [
    "evals_large, evecs_large = eigsh(X, 3, which='LM')\n",
    "\n",
    "\n",
    "print(evals_large)\n",
    "\n",
    "print(np.dot(evecs_large.T, evecs_all[:,-3:]))"
   ]
  },
  {
   "cell_type": "code",
   "execution_count": null,
   "id": "22262f07",
   "metadata": {},
   "outputs": [],
   "source": []
  }
 ],
 "metadata": {
  "kernelspec": {
   "display_name": "Python 3",
   "language": "python",
   "name": "python3"
  },
  "language_info": {
   "codemirror_mode": {
    "name": "ipython",
    "version": 3
   },
   "file_extension": ".py",
   "mimetype": "text/x-python",
   "name": "python",
   "nbconvert_exporter": "python",
   "pygments_lexer": "ipython3",
   "version": "3.8.8"
  }
 },
 "nbformat": 4,
 "nbformat_minor": 5
}
