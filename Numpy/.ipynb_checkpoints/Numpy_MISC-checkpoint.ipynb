{
 "cells": [
  {
   "cell_type": "markdown",
   "metadata": {},
   "source": [
    "# Numpy\n",
    "## MISC"
   ]
  },
  {
   "cell_type": "code",
   "execution_count": 1,
   "metadata": {},
   "outputs": [],
   "source": [
    "import numpy as np\n",
    "import matplotlib.pyplot as plt"
   ]
  },
  {
   "cell_type": "code",
   "execution_count": 1,
   "metadata": {},
   "outputs": [
    {
     "data": {
      "text/plain": [
       "array([[-0.        , -0.        , -0.        , -0.        , -0.        ,\n",
       "        -0.        , -0.        , -0.        , -0.        , -0.        ,\n",
       "         0.        ,  0.        ,  0.        ,  0.        ,  0.        ,\n",
       "         0.        ,  0.        ,  0.        ,  0.        ,  0.        ],\n",
       "       [-0.42995636, -0.38726275, -0.34372169, -0.29942845, -0.25447998,\n",
       "        -0.20897462, -0.16301197, -0.11669259, -0.07011786, -0.02338968,\n",
       "         0.02338968,  0.07011786,  0.11669259,  0.16301197,  0.20897462,\n",
       "         0.25447998,  0.29942845,  0.34372169,  0.38726275,  0.42995636],\n",
       "       [-0.77637192, -0.71408881, -0.64555852, -0.57138061, -0.492204  ,\n",
       "        -0.40872137, -0.32166307, -0.23179071, -0.13989055, -0.04676656,\n",
       "         0.04676656,  0.13989055,  0.23179071,  0.32166307,  0.40872137,\n",
       "         0.492204  ,  0.57138061,  0.64555852,  0.71408881,  0.77637192],\n",
       "       [-0.9719379 , -0.9294733 , -0.86872962, -0.79090146, -0.69751938,\n",
       "        -0.59041986, -0.4717091 , -0.34372169, -0.20897462, -0.07011786,\n",
       "         0.07011786,  0.20897462,  0.34372169,  0.4717091 ,  0.59041986,\n",
       "         0.69751938,  0.79090146,  0.86872962,  0.9294733 ,  0.9719379 ],\n",
       "       [-0.9786557 , -0.99980306, -0.98604004, -0.93784722, -0.85690736,\n",
       "        -0.74604665, -0.60913605, -0.4509561 , -0.27703001, -0.09343078,\n",
       "         0.09343078,  0.27703001,  0.4509561 ,  0.60913605,  0.74604665,\n",
       "         0.85690736,  0.93784722,  0.98604004,  0.99980306,  0.9786557 ],\n",
       "       [-0.79522006, -0.91410234, -0.9831947 , -0.99873379, -0.9598732 ,\n",
       "        -0.86872962, -0.73026751, -0.55202873, -0.34372169, -0.11669259,\n",
       "         0.11669259,  0.34372169,  0.55202873,  0.73026751,  0.86872962,\n",
       "         0.9598732 ,  0.99873379,  0.9831947 ,  0.91410234,  0.79522006],\n",
       "       [-0.45727263, -0.6857457 , -0.86054034, -0.96797406, -0.99963723,\n",
       "        -0.95305133, -0.83186299, -0.64555852, -0.40872137, -0.13989055,\n",
       "         0.13989055,  0.40872137,  0.64555852,  0.83186299,  0.95305133,\n",
       "         0.99963723,  0.96797406,  0.86054034,  0.6857457 ,  0.45727263],\n",
       "       [-0.03047682, -0.35037076, -0.63302322, -0.84839063, -0.97358123,\n",
       "        -0.99528832, -0.91120462, -0.73026751, -0.4717091 , -0.16301197,\n",
       "         0.16301197,  0.4717091 ,  0.73026751,  0.91120462,  0.99528832,\n",
       "         0.97358123,  0.84839063,  0.63302322,  0.35037076,  0.03047682],\n",
       "       [ 0.40224065,  0.03968347, -0.32836787, -0.65095676, -0.88342083,\n",
       "        -0.9935755 , -0.96616987, -0.80499825, -0.5323748 , -0.18604419,\n",
       "         0.18604419,  0.5323748 ,  0.80499825,  0.96616987,  0.9935755 ,\n",
       "         0.88342083,  0.65095676,  0.32836787, -0.03968347, -0.40224065],\n",
       "       [ 0.7568025 ,  0.42354465,  0.01630136, -0.39378948, -0.73509255,\n",
       "        -0.9479885 , -0.99528832, -0.86872962, -0.59041986, -0.20897462,\n",
       "         0.20897462,  0.59041986,  0.86872962,  0.99528832,  0.9479885 ,\n",
       "         0.73509255,  0.39378948, -0.01630136, -0.42354465, -0.7568025 ]])"
      ]
     },
     "execution_count": 1,
     "metadata": {},
     "output_type": "execute_result"
    }
   ],
   "source": [
    "import numpy as np\n",
    "\n",
    "def func(x, y):\n",
    "    return np.sin(y * x)\n",
    "\n",
    "xaxis = np.linspace(0, 4, 10)\n",
    "yaxis = np.linspace(-1, 1, 20)\n",
    "result = func(xaxis[:,None], yaxis[None,:])\n",
    "result"
   ]
  },
  {
   "cell_type": "code",
   "execution_count": null,
   "metadata": {},
   "outputs": [],
   "source": []
  },
  {
   "cell_type": "code",
   "execution_count": null,
   "metadata": {},
   "outputs": [],
   "source": []
  },
  {
   "cell_type": "markdown",
   "metadata": {},
   "source": [
    "## meshgrid"
   ]
  },
  {
   "cell_type": "code",
   "execution_count": null,
   "metadata": {},
   "outputs": [],
   "source": []
  },
  {
   "cell_type": "code",
   "execution_count": null,
   "metadata": {},
   "outputs": [],
   "source": []
  },
  {
   "cell_type": "code",
   "execution_count": null,
   "metadata": {},
   "outputs": [],
   "source": []
  },
  {
   "cell_type": "code",
   "execution_count": null,
   "metadata": {},
   "outputs": [],
   "source": []
  },
  {
   "cell_type": "code",
   "execution_count": 5,
   "metadata": {},
   "outputs": [
    {
     "data": {
      "image/png": "[encoded data removed]",
      "text/plain": [
       "<Figure size 720x576 with 1 Axes>"
      ]
     },
     "metadata": {
      "needs_background": "light"
     },
     "output_type": "display_data"
    }
   ],
   "source": [
    "fig, ax = plt.subplots(figsize=(10,8))\n",
    "\n",
    "x = np.array([1,2,3])\n",
    "y = np.array([1,2,3])\n",
    "\n",
    "# xv, yv = np.meshgrid(x,y,indexing='xy')\n",
    "xv, yv = np.meshgrid(x,y,indexing='ij')\n",
    "\n",
    "# print(xv)\n",
    "# print(yv)\n",
    "\n",
    "nx = 3\n",
    "ny = 3\n",
    "for i in range(nx):\n",
    "    for j in range(ny):\n",
    "        ax.text(xv[i,j], yv[i,j], '({},{})'.format(i,j), ha='center', va='center', fontsize=16)\n",
    "\n",
    "ax.set_xlim(0, 4)\n",
    "ax.set_ylim(0, 4)\n",
    "ax.grid()"
   ]
  }
 ],
 "metadata": {
  "kernelspec": {
   "display_name": "Python 3",
   "language": "python",
   "name": "python3"
  },
  "language_info": {
   "codemirror_mode": {
    "name": "ipython",
    "version": 3
   },
   "file_extension": ".py",
   "mimetype": "text/x-python",
   "name": "python",
   "nbconvert_exporter": "python",
   "pygments_lexer": "ipython3",
   "version": "3.8.8"
  }
 },
 "nbformat": 4,
 "nbformat_minor": 4
}
