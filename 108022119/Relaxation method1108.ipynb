{
 "cells": [
  {
   "cell_type": "code",
   "execution_count": 89,
   "id": "773fbbb2",
   "metadata": {},
   "outputs": [],
   "source": [
    "import numpy as np\n",
    "import matplotlib.pyplot as plt\n",
    "import sympy as sym"
   ]
  },
  {
   "cell_type": "code",
   "execution_count": 98,
   "id": "f958af68",
   "metadata": {},
   "outputs": [
    {
     "data": {
      "image/png": "[encoded data removed]",
      "text/plain": [
       "<Figure size 432x288 with 2 Axes>"
      ]
     },
     "metadata": {
      "needs_background": "light"
     },
     "output_type": "display_data"
    }
   ],
   "source": [
    "n = 0\n",
    "nmax = 100\n",
    "\n",
    "xmin = -5\n",
    "xmax = 5\n",
    "\n",
    "ymin = -5\n",
    "ymax = 5\n",
    "\n",
    "h = 1\n",
    "\n",
    "nx = int((xmax - xmin)/h) + 1\n",
    "ny = int((ymax - ymin)/h) + 1\n",
    "\n",
    "x = np.linspace(xmin, xmax, nx)\n",
    "y = np.linspace(ymin, ymax, ny)\n",
    "\n",
    "lx = len(x)\n",
    "ly = len(y)\n",
    "\n",
    "v = np.zeros([len(x), len(y)])\n",
    "v[-1, -1] = 1\n",
    "\n",
    "while n <= nmax:\n",
    "\n",
    "    v[1:lx-1, 1:ly-1] = 0.25*(v[0:lx-2, 0:ly-2] + v[2:lx, 0:ly-2] + v[0:lx-2, 2:ly] + v[2:lx, 2:ly])\n",
    "        \n",
    "    n += 1\n",
    "\n",
    "x, y = np.meshgrid(x, y)\n",
    "    \n",
    "plt.contourf(x, y, v)\n",
    "plt.colorbar()\n",
    "\n",
    "plt.show()"
   ]
  },
  {
   "cell_type": "code",
   "execution_count": 97,
   "id": "a8e1d607",
   "metadata": {},
   "outputs": [
    {
     "data": {
      "image/png": "[encoded data removed]",
      "text/plain": [
       "<Figure size 432x288 with 2 Axes>"
      ]
     },
     "metadata": {
      "needs_background": "light"
     },
     "output_type": "display_data"
    }
   ],
   "source": [
    "n = 0\n",
    "nmax = 10000\n",
    "\n",
    "h = 0.05\n",
    "\n",
    "nx = int((xmax - xmin)/h) + 1\n",
    "ny = int((ymax - ymin)/h) + 1\n",
    "\n",
    "x = np.linspace(xmin, xmax, nx)\n",
    "y = np.linspace(ymin, ymax, ny)\n",
    "\n",
    "lx = len(x)\n",
    "ly = len(y)\n",
    "\n",
    "v = np.zeros([len(x), len(y)])\n",
    "v[-1, :] = 1\n",
    "v[0, :] = 1\n",
    "v[:, -1] = 1\n",
    "v[:, 0] = 1\n",
    "\n",
    "while n <= nmax:\n",
    "\n",
    "    v[1:lx-1, 1:ly-1] = 0.25*(v[0:lx-2, 0:ly-2] + v[2:lx, 0:ly-2] + v[0:lx-2, 2:ly] + v[2:lx, 2:ly])\n",
    "        \n",
    "    n += 1\n",
    "    \n",
    "plt.contourf(x, y, v)\n",
    "plt.colorbar()\n",
    "\n",
    "plt.show()"
   ]
  },
  {
   "cell_type": "code",
   "execution_count": null,
   "id": "833225eb",
   "metadata": {},
   "outputs": [],
   "source": []
  },
  {
   "cell_type": "code",
   "execution_count": null,
   "id": "010b863f",
   "metadata": {},
   "outputs": [],
   "source": []
  },
  {
   "cell_type": "code",
   "execution_count": null,
   "id": "da1e0644",
   "metadata": {},
   "outputs": [],
   "source": []
  }
 ],
 "metadata": {
  "kernelspec": {
   "display_name": "Python 3",
   "language": "python",
   "name": "python3"
  },
  "language_info": {
   "codemirror_mode": {
    "name": "ipython",
    "version": 3
   },
   "file_extension": ".py",
   "mimetype": "text/x-python",
   "name": "python",
   "nbconvert_exporter": "python",
   "pygments_lexer": "ipython3",
   "version": "3.8.8"
  }
 },
 "nbformat": 4,
 "nbformat_minor": 5
}
