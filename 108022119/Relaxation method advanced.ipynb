{
 "cells": [
  {
   "cell_type": "markdown",
   "id": "1c5a61b2",
   "metadata": {},
   "source": [
    "## Multigrid"
   ]
  },
  {
   "cell_type": "code",
   "execution_count": 1,
   "id": "3615d69d",
   "metadata": {},
   "outputs": [],
   "source": [
    "import numpy as np\n",
    "import matplotlib.pyplot as plt\n",
    "import sympy as sym"
   ]
  },
  {
   "cell_type": "code",
   "execution_count": 21,
   "id": "fb53e584",
   "metadata": {},
   "outputs": [
    {
     "data": {
      "image/png": "[encoded data removed]",
      "text/plain": [
       "<Figure size 432x288 with 2 Axes>"
      ]
     },
     "metadata": {
      "needs_background": "light"
     },
     "output_type": "display_data"
    }
   ],
   "source": [
    "L = 10\n",
    "\n",
    "n = 0\n",
    "nmax = 10000\n",
    "\n",
    "nc = 6\n",
    "\n",
    "nl = 2**nc + 1\n",
    "\n",
    "x = np.linspace(0, L, nl)\n",
    "y = np.linspace(0, L, nl)\n",
    "\n",
    "v = np.zeros([nl, nl])\n",
    "\n",
    "v[0, :] = 100\n",
    "\n",
    "while n <= nmax:\n",
    "\n",
    "    v[1:nl-1, 1:nl-1] = 0.25*(v[0:nl-2, 1:nl-1] + v[2:nl, 1:nl-1] + v[1:nl-1, 2:nl] + v[1:nl-1, 0:nl-2])\n",
    "        \n",
    "    n += 1\n",
    "    \n",
    "    v[0, :] = 100\n",
    "        \n",
    "plt.contourf(x, y, v)\n",
    "plt.colorbar()\n",
    "\n",
    "plt.show()"
   ]
  },
  {
   "cell_type": "code",
   "execution_count": 33,
   "id": "4365fa6b",
   "metadata": {},
   "outputs": [
    {
     "data": {
      "image/png": "[encoded data removed]",
      "text/plain": [
       "<Figure size 432x288 with 2 Axes>"
      ]
     },
     "metadata": {
      "needs_background": "light"
     },
     "output_type": "display_data"
    }
   ],
   "source": [
    "L = 10\n",
    "\n",
    "nc = 0\n",
    "ncmax = 6\n",
    "\n",
    "nl = 2**nc + 1\n",
    "\n",
    "n = 0\n",
    "nmax = 10000\n",
    "\n",
    "v0 = np.zeros([nl, nl])\n",
    "v0[0, :] = 100\n",
    "\n",
    "v = v0\n",
    "\n",
    "while nc < ncmax:\n",
    "    \n",
    "    v1 = v\n",
    "        \n",
    "    nc = nc + 1\n",
    "    \n",
    "    nl = 2**nc + 1\n",
    "    \n",
    "    v = np.zeros([nl, nl])\n",
    "    \n",
    "    for i in range(nl):\n",
    "        \n",
    "        for j in range(nl):\n",
    "            \n",
    "            if i%2 == 0 and j%2 == 0:\n",
    "                \n",
    "                v[i, j] = v1[int(i/2), int(j/2)]\n",
    "    \n",
    "    v[0, :] = 100\n",
    "    \n",
    "    n = 0\n",
    "    \n",
    "    v1 = v\n",
    "    \n",
    "    while n < nmax:\n",
    "        \n",
    "        v1[1:nl-1, 1:nl-1] = 0.25*(v[0:nl-2, 1:nl-1] + v[2:nl, 1:nl-1] + v[1:nl-1, 2:nl] + v[1:nl-1, 0:nl-2])\n",
    "        \n",
    "        n += 1\n",
    "        \n",
    "        v = v1\n",
    "        \n",
    "x = np.linspace(0, L, nl)\n",
    "y = np.linspace(0, L, nl)\n",
    "    \n",
    "plt.contourf(x, y, v)\n",
    "plt.colorbar()\n",
    "\n",
    "plt.show()"
   ]
  },
  {
   "cell_type": "code",
   "execution_count": 31,
   "id": "16ffcf52",
   "metadata": {},
   "outputs": [
    {
     "data": {
      "image/png": "[encoded data removed]",
      "text/plain": [
       "<Figure size 432x288 with 2 Axes>"
      ]
     },
     "metadata": {
      "needs_background": "light"
     },
     "output_type": "display_data"
    }
   ],
   "source": [
    "L = 10\n",
    "\n",
    "n = 0\n",
    "nmax = 10000\n",
    "\n",
    "nl = 101\n",
    "\n",
    "x = np.linspace(0, L, nl)\n",
    "y = np.linspace(0, L, nl)\n",
    "\n",
    "v = np.zeros([nl, nl])\n",
    "\n",
    "v[int(nl/4):int(3*nl/4), int(nl/4)] = 100\n",
    "v[int(nl/4):int(3*nl/4), int(3*nl/4)] = 100\n",
    "v[int(nl/4), int(nl/4):int(3*nl/4)] = 100\n",
    "v[int(3*nl/4), int(nl/4):int(3*nl/4)] = 100\n",
    "\n",
    "v1 = v\n",
    "\n",
    "w = 0.5\n",
    "\n",
    "while n <= nmax:\n",
    "\n",
    "    v1[1:nl-1, 1:nl-1] = w*0.25*(v[0:nl-2, 1:nl-1] + v[2:nl, 1:nl-1] + v[1:nl-1, 2:nl] + v[1:nl-1, 0:nl-2]) + (1-w)*v[1:nl-1, 1:nl-1]\n",
    "        \n",
    "    n += 1\n",
    "    \n",
    "    v = v1\n",
    "    \n",
    "    v[int(nl/4):int(3*nl/4), int(nl/4)] = 100\n",
    "    v[int(nl/4):int(3*nl/4), int(3*nl/4)] = 100\n",
    "    v[int(nl/4), int(nl/4):int(3*nl/4)] = 100\n",
    "    v[int(3*nl/4), int(nl/4):int(3*nl/4)] = 100\n",
    "        \n",
    "plt.contourf(x, y, v)\n",
    "plt.colorbar()\n",
    "\n",
    "plt.show()"
   ]
  },
  {
   "cell_type": "code",
   "execution_count": null,
   "id": "f36f25ad",
   "metadata": {},
   "outputs": [],
   "source": []
  }
 ],
 "metadata": {
  "kernelspec": {
   "display_name": "Python 3",
   "language": "python",
   "name": "python3"
  },
  "language_info": {
   "codemirror_mode": {
    "name": "ipython",
    "version": 3
   },
   "file_extension": ".py",
   "mimetype": "text/x-python",
   "name": "python",
   "nbconvert_exporter": "python",
   "pygments_lexer": "ipython3",
   "version": "3.8.8"
  }
 },
 "nbformat": 4,
 "nbformat_minor": 5
}
