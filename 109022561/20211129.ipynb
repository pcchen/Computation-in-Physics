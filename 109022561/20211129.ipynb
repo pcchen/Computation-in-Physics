{
 "cells": [
  {
   "cell_type": "code",
   "execution_count": 34,
   "id": "44fb9cfd",
   "metadata": {},
   "outputs": [],
   "source": [
    "import numpy as np\n",
    "import matplotlib.pyplot as plt\n",
    "def relax(dN,N):\n",
    "    n=N\n",
    "    data1=np.full((n,n),0)\n",
    "    x=np.linspace(0,10,n)\n",
    "    y=np.linspace(0,10,n)\n",
    "    X,Y=np.meshgrid(x,y, indexing = 'ij')\n",
    "    data1[0,:]=0\n",
    "    data1[-1,:]=0\n",
    "    data1[:,0]=10\n",
    "    data1[:,-1]=10\n",
    "    for a in range(dN):\n",
    "        for i in range(data1.shape[0]):\n",
    "            for j in range(data1.shape[1]-2):\n",
    "                if (i==0):\n",
    "                    data1[i][j+1]=(data1[i-1][j+1]+data1[i+1][j+1]+data1[i][j]+data1[i][j+2])/4\n",
    "                if (i==data1.shape[0]-1):\n",
    "                    data1[i][j+1]=(data1[i-1][j+1]+data1[0][j+1]+data1[i][j]+data1[i][j+2])/4\n",
    "                if (i!=0):\n",
    "                    if (i!=data1.shape[0]-1):\n",
    "                        data1[i][j+1]=(data1[i-1][j+1]+data1[i+1][j+1]+data1[i][j]+data1[i][j+2])/4  "
   ]
  },
  {
   "cell_type": "code",
   "execution_count": 35,
   "id": "f103e6d5",
   "metadata": {},
   "outputs": [
    {
     "name": "stdout",
     "output_type": "stream",
     "text": [
      "14.2 ms ± 633 µs per loop (mean ± std. dev. of 7 runs, 100 loops each)\n"
     ]
    }
   ],
   "source": [
    "%timeit relax (100, 10)"
   ]
  },
  {
   "cell_type": "code",
   "execution_count": 36,
   "id": "9003c301",
   "metadata": {},
   "outputs": [
    {
     "name": "stdout",
     "output_type": "stream",
     "text": [
      "58.5 ms ± 549 µs per loop (mean ± std. dev. of 7 runs, 10 loops each)\n"
     ]
    }
   ],
   "source": [
    "%timeit relax (100, 20)"
   ]
  },
  {
   "cell_type": "code",
   "execution_count": 37,
   "id": "e3e00c8d",
   "metadata": {},
   "outputs": [
    {
     "name": "stdout",
     "output_type": "stream",
     "text": [
      "138 ms ± 422 µs per loop (mean ± std. dev. of 7 runs, 10 loops each)\n"
     ]
    }
   ],
   "source": [
    "%timeit relax (100, 30)"
   ]
  },
  {
   "cell_type": "code",
   "execution_count": 38,
   "id": "6c4b60cc",
   "metadata": {},
   "outputs": [
    {
     "name": "stdout",
     "output_type": "stream",
     "text": [
      "244 ms ± 3.28 ms per loop (mean ± std. dev. of 7 runs, 1 loop each)\n"
     ]
    }
   ],
   "source": [
    "%timeit relax (100, 40)"
   ]
  },
  {
   "cell_type": "code",
   "execution_count": 39,
   "id": "853ed0aa",
   "metadata": {},
   "outputs": [
    {
     "name": "stdout",
     "output_type": "stream",
     "text": [
      "381 ms ± 4.26 ms per loop (mean ± std. dev. of 7 runs, 1 loop each)\n"
     ]
    }
   ],
   "source": [
    "%timeit relax (100, 50)"
   ]
  },
  {
   "cell_type": "code",
   "execution_count": 40,
   "id": "2b616357",
   "metadata": {},
   "outputs": [
    {
     "name": "stdout",
     "output_type": "stream",
     "text": [
      "627 ms ± 100 ms per loop (mean ± std. dev. of 7 runs, 1 loop each)\n"
     ]
    }
   ],
   "source": [
    "%timeit relax (100, 60)"
   ]
  },
  {
   "cell_type": "code",
   "execution_count": 41,
   "id": "a1951da3",
   "metadata": {},
   "outputs": [
    {
     "name": "stdout",
     "output_type": "stream",
     "text": [
      "920 ms ± 80.7 ms per loop (mean ± std. dev. of 7 runs, 1 loop each)\n"
     ]
    }
   ],
   "source": [
    "%timeit relax (100, 70)"
   ]
  },
  {
   "cell_type": "code",
   "execution_count": 42,
   "id": "9d989928",
   "metadata": {},
   "outputs": [
    {
     "name": "stdout",
     "output_type": "stream",
     "text": [
      "1.02 s ± 27.1 ms per loop (mean ± std. dev. of 7 runs, 1 loop each)\n"
     ]
    }
   ],
   "source": [
    "%timeit relax (100, 80)"
   ]
  },
  {
   "cell_type": "code",
   "execution_count": 43,
   "id": "27d45b92",
   "metadata": {},
   "outputs": [
    {
     "name": "stdout",
     "output_type": "stream",
     "text": [
      "1.41 s ± 172 ms per loop (mean ± std. dev. of 7 runs, 1 loop each)\n"
     ]
    }
   ],
   "source": [
    "%timeit relax (100, 90)"
   ]
  },
  {
   "cell_type": "code",
   "execution_count": 44,
   "id": "bbc2baa2",
   "metadata": {},
   "outputs": [
    {
     "name": "stdout",
     "output_type": "stream",
     "text": [
      "1.58 s ± 12.5 ms per loop (mean ± std. dev. of 7 runs, 1 loop each)\n"
     ]
    }
   ],
   "source": [
    "%timeit relax (100, 100)"
   ]
  },
  {
   "cell_type": "code",
   "execution_count": 49,
   "id": "092baa4e",
   "metadata": {},
   "outputs": [
    {
     "data": {
      "text/plain": [
       "[]"
      ]
     },
     "execution_count": 49,
     "metadata": {},
     "output_type": "execute_result"
    },
    {
     "data": {
      "image/png": "[encoded data removed]",
      "text/plain": [
       "<Figure size 432x288 with 1 Axes>"
      ]
     },
     "metadata": {
      "needs_background": "light"
     },
     "output_type": "display_data"
    }
   ],
   "source": [
    "NL=[10,20,30,40,50,60,70,80,90,100]\n",
    "T=[14.2,58.5,138,244,381,627,920,1020,1410,1580]\n",
    "fig,ax=plt.subplots()\n",
    "ax.plot(NL,T,'x')\n",
    "ax.loglog()"
   ]
  },
  {
   "cell_type": "code",
   "execution_count": null,
   "id": "f924c3de",
   "metadata": {},
   "outputs": [],
   "source": []
  }
 ],
 "metadata": {
  "kernelspec": {
   "display_name": "Python 3",
   "language": "python",
   "name": "python3"
  },
  "language_info": {
   "codemirror_mode": {
    "name": "ipython",
    "version": 3
   },
   "file_extension": ".py",
   "mimetype": "text/x-python",
   "name": "python",
   "nbconvert_exporter": "python",
   "pygments_lexer": "ipython3",
   "version": "3.8.8"
  }
 },
 "nbformat": 4,
 "nbformat_minor": 5
}
